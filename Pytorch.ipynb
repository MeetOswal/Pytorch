{
 "cells": [
  {
   "cell_type": "code",
   "execution_count": 1,
   "id": "a6c3f752-e560-4bf7-989e-e119f04bde9c",
   "metadata": {},
   "outputs": [],
   "source": [
    "import torch\n"
   ]
  },
  {
   "cell_type": "code",
   "execution_count": 2,
   "id": "e38ce98a-87c9-4835-aefe-fcb1c3042518",
   "metadata": {},
   "outputs": [],
   "source": [
    "import numpy as np"
   ]
  },
  {
   "cell_type": "code",
   "execution_count": 3,
   "id": "c7f38b0f-bc9d-4023-ae70-0a7cae16e9dc",
   "metadata": {},
   "outputs": [],
   "source": [
    "import torch.nn as nn\n",
    "import torchvision"
   ]
  },
  {
   "cell_type": "markdown",
   "id": "e4bf41c5-7035-4819-bd89-10b89160d8bd",
   "metadata": {},
   "source": [
    "## Video Lecture 2\n",
    "### Intro To Tensors"
   ]
  },
  {
   "cell_type": "code",
   "execution_count": 15,
   "id": "dde7ac4e-c8f6-434f-a38d-be9be298a95f",
   "metadata": {},
   "outputs": [
    {
     "name": "stdout",
     "output_type": "stream",
     "text": [
      "tensor([[0., 0., 0.],\n",
      "        [0., 0., 0.]])\n",
      "tensor([[1, 1, 1],\n",
      "        [1, 1, 1]], dtype=torch.int32)\n",
      "torch.Size([2, 3])\n"
     ]
    }
   ],
   "source": [
    "x = torch.empty(2,3)\n",
    "print(x)\n",
    "y = torch.ones(2,3, dtype= torch.int) # torch.zeros\n",
    "print(y)\n",
    "print(x.size())"
   ]
  },
  {
   "cell_type": "code",
   "execution_count": 54,
   "id": "235f181a-598e-48c4-b7cb-806b288bde15",
   "metadata": {},
   "outputs": [
    {
     "name": "stdout",
     "output_type": "stream",
     "text": [
      "tensor([[ 0.1618, -1.6652],\n",
      "        [-1.2097,  0.7262]])\n",
      "tensor([2.0000, 0.1000, 5.0000])\n",
      "\n",
      "tensor([[-0.3987, -0.8757],\n",
      "        [-0.0690, -0.8475]])\n",
      "tensor([[-0.3325,  0.3902],\n",
      "        [-3.9557, -0.1629]])\n",
      "x+y:  tensor([[-0.7312, -0.4855],\n",
      "        [-4.0247, -1.0104]])\n",
      "torch.add():  tensor([[-0.7312, -0.4855],\n",
      "        [-4.0247, -1.0104]])\n",
      "\n",
      "inplace add:  tensor([[-0.7312, -0.4855],\n",
      "        [-4.0247, -1.0104]])\n"
     ]
    }
   ],
   "source": [
    "x = torch.randn(2,2)\n",
    "print(x)\n",
    "x = torch.tensor([2,0.1, 5])\n",
    "print(x)\n",
    "print()\n",
    "x,y = torch.randn(2,2), torch.randn(2,2)\n",
    "print(x)\n",
    "print(y)\n",
    "print(\"x+y: \", x+y)\n",
    "print(\"torch.add(): \",torch.add(x,y))\n",
    "print()\n",
    "y.add_(x)\n",
    "print(\"inplace add: \", y)"
   ]
  },
  {
   "cell_type": "code",
   "execution_count": 28,
   "id": "c27c2cf8-5873-43f2-8f3a-24e4fd1b9fd9",
   "metadata": {},
   "outputs": [
    {
     "name": "stdout",
     "output_type": "stream",
     "text": [
      "tensor([[0.2481, 0.0920, 0.5241],\n",
      "        [0.2037, 0.1922, 0.4664],\n",
      "        [0.1794, 0.0157, 0.9306],\n",
      "        [0.1246, 0.2532, 0.3889],\n",
      "        [0.1430, 0.3258, 0.3409]])\n",
      "tensor([0.2481, 0.2037, 0.1794, 0.1246, 0.1430])\n",
      "tensor([0.2481, 0.0920, 0.5241])\n",
      "0.19224846363067627\n"
     ]
    }
   ],
   "source": [
    "x = torch.randn(5,3)\n",
    "print(x)\n",
    "print(x[:, 0]) # All Rows 1st column\n",
    "print(x[0, :]) # All Columns 1st row\n",
    "print(x[1,1].item())"
   ]
  },
  {
   "cell_type": "code",
   "execution_count": 53,
   "id": "c8c21237-27a7-4c05-a6f5-5af01f7034fb",
   "metadata": {},
   "outputs": [
    {
     "name": "stdout",
     "output_type": "stream",
     "text": [
      "tensor([[-1.1729,  0.7292,  1.0129,  1.1475],\n",
      "        [ 2.2537,  0.3857, -1.4533, -1.6871],\n",
      "        [-1.2116,  0.9200,  1.2944, -0.1731],\n",
      "        [ 0.6048, -0.1508, -1.6144,  1.2320]])\n",
      "tensor([-1.1729,  0.7292,  1.0129,  1.1475,  2.2537,  0.3857, -1.4533, -1.6871,\n",
      "        -1.2116,  0.9200,  1.2944, -0.1731,  0.6048, -0.1508, -1.6144,  1.2320]) torch.Size([16])\n",
      "tensor([[-1.1729,  0.7292,  1.0129,  1.1475,  2.2537,  0.3857, -1.4533, -1.6871],\n",
      "        [-1.2116,  0.9200,  1.2944, -0.1731,  0.6048, -0.1508, -1.6144,  1.2320]]) torch.Size([2, 8])\n"
     ]
    }
   ],
   "source": [
    "x = torch.randn(4,4)\n",
    "print(x)\n",
    "y = x.view(16) # reshape\n",
    "print(y, y.size())\n",
    "y = x.view(-1, 8) # if you don'f know the first dimension\n",
    "print(y, y.size())"
   ]
  },
  {
   "cell_type": "code",
   "execution_count": 42,
   "id": "be839e02-bf20-4eed-a4ff-63251f021709",
   "metadata": {},
   "outputs": [
    {
     "name": "stdout",
     "output_type": "stream",
     "text": [
      "tensor([1., 1., 1., 1., 1.])\n",
      "[1. 1. 1. 1. 1.] <class 'numpy.ndarray'>\n",
      "tensor([2., 2., 2., 2., 2.])\n",
      "[2. 2. 2. 2. 2.]\n"
     ]
    }
   ],
   "source": [
    "# torch to numpy\n",
    "a = torch.ones(5)\n",
    "print(a)\n",
    "b = a.numpy()\n",
    "print(b, type(b)) # both a and b share the same memory location\n",
    "a.add_(1)\n",
    "print(a) #<- tensor\n",
    "print(b) #<- numpy"
   ]
  },
  {
   "cell_type": "code",
   "execution_count": 43,
   "id": "4e1043cb-1492-49ce-a0e3-80b5094b2da4",
   "metadata": {},
   "outputs": [
    {
     "name": "stdout",
     "output_type": "stream",
     "text": [
      "tensor([1., 1., 1., 1., 1.], dtype=torch.float64)\n"
     ]
    }
   ],
   "source": [
    "# numpy to torch\n",
    "a = np.ones(5)\n",
    "b = torch.from_numpy(a) # dtype = float64\n",
    "print(b)"
   ]
  },
  {
   "cell_type": "code",
   "execution_count": 51,
   "id": "08a08403-58d5-4b26-98f5-dee83b2997ef",
   "metadata": {},
   "outputs": [
    {
     "name": "stdout",
     "output_type": "stream",
     "text": [
      "tensor([2., 2., 2., 2., 2.], device='cuda:0')\n",
      "[2. 2. 2. 2. 2.] <class 'numpy.ndarray'>\n"
     ]
    }
   ],
   "source": [
    "if torch.cuda.is_available():\n",
    "    device = torch.device(\"cuda\")\n",
    "    x = torch.ones(5, device = device)\n",
    "    #or\n",
    "    y = torch.ones(5)\n",
    "    y = y.to(device)\n",
    "    \n",
    "    z = x + y\n",
    "    print(z)\n",
    "\n",
    "z = z.to(\"cpu\")\n",
    "z = z.numpy()\n",
    "print(z, type(z))"
   ]
  },
  {
   "cell_type": "code",
   "execution_count": 52,
   "id": "38738a9e-3ad8-4b6b-beab-eaae9d1dfed9",
   "metadata": {},
   "outputs": [
    {
     "name": "stdout",
     "output_type": "stream",
     "text": [
      "tensor([1., 1., 1., 1., 1.], requires_grad=True)\n"
     ]
    }
   ],
   "source": [
    "x = torch.ones(5, requires_grad = True) # by default requires_grad = False\n",
    "print(x)\n",
    "# requires_grad defines that the variable is trainable\n"
   ]
  },
  {
   "cell_type": "markdown",
   "id": "790e7b75-5422-417f-be9e-313a398e2b80",
   "metadata": {},
   "source": [
    "## Video Lecture 3\n",
    "### Autograd"
   ]
  },
  {
   "cell_type": "code",
   "execution_count": 63,
   "id": "5ec286b5-f75a-4947-a683-f8a94c06e598",
   "metadata": {},
   "outputs": [
    {
     "name": "stdout",
     "output_type": "stream",
     "text": [
      "tensor([-1.3970,  1.3871, -0.8718], requires_grad=True)\n",
      "tensor([0.6030, 3.3871, 1.1282], grad_fn=<AddBackward0>)\n",
      "tensor([0.6030, 3.3871, 1.1282], grad_fn=<AddBackward0>)\n",
      "tensor(8.7393, grad_fn=<MeanBackward0>)\n",
      "tensor([0.8040, 4.5161, 1.5043])\n"
     ]
    }
   ],
   "source": [
    "x = torch.randn(3, requires_grad = True)\n",
    "print(x)\n",
    "y = x+2\n",
    "print(y)\n",
    "z = y*y*2\n",
    "print(y)\n",
    "z = z.mean() # <- this is a scaler \n",
    "print(z)\n",
    "# v = torch.tensor([0.1,1,0.001], dtype = torch.float32) # <- if z is not a scaler you need to pass a vector to the bacward function\n",
    "z.backward() # dz/dx # backward() function requires z to be a scalar value\n",
    "print(x.grad)"
   ]
  },
  {
   "cell_type": "code",
   "execution_count": 68,
   "id": "ad3930fc-c301-4f7b-88cc-cbb156c81404",
   "metadata": {},
   "outputs": [
    {
     "name": "stdout",
     "output_type": "stream",
     "text": [
      "tensor([-1.6329, -0.9948, -1.6305], requires_grad=True)\n",
      "tensor([0.3671, 1.0052, 0.3695])\n"
     ]
    }
   ],
   "source": [
    "x = torch.randn(3, requires_grad=True)\n",
    "print(x)\n",
    "# remove grad using 3 different methods\n",
    "\n",
    "# x.requires_grad_(False)\n",
    "# print(x)\n",
    "# y = x.detach()\n",
    "with torch.no_grad():\n",
    "    y = x + 2\n",
    "print(y)"
   ]
  },
  {
   "cell_type": "code",
   "execution_count": 74,
   "id": "e5294f77-412f-4e23-bbcf-42f5a9bb857c",
   "metadata": {},
   "outputs": [
    {
     "name": "stdout",
     "output_type": "stream",
     "text": [
      "tensor([3., 3., 3., 3.])\n",
      "tensor([3., 3., 3., 3.])\n",
      "tensor([3., 3., 3., 3.])\n"
     ]
    }
   ],
   "source": [
    "weights = torch.ones(4, requires_grad = True)\n",
    "for epoch in range(3):\n",
    "    model_output = (weights * 3).sum()\n",
    "\n",
    "    model_output.backward()\n",
    "    print(weights.grad) # grad accumulates over the epochs\n",
    "\n",
    "    weights.grad.zero_() # clear out the grad to get accurate results"
   ]
  },
  {
   "cell_type": "markdown",
   "id": "7a61a71f-4128-47c7-b35d-e733d6ef7860",
   "metadata": {},
   "source": [
    "## Video Lecture 4\n",
    "### Backpropagation"
   ]
  },
  {
   "cell_type": "code",
   "execution_count": 79,
   "id": "e8028a92-b734-4776-b6be-d00f9c2b5278",
   "metadata": {},
   "outputs": [
    {
     "name": "stdout",
     "output_type": "stream",
     "text": [
      "tensor(1., grad_fn=<PowBackward0>)\n",
      "tensor(-2.)\n"
     ]
    }
   ],
   "source": [
    "x = torch.tensor(1.0)\n",
    "y = torch.tensor(2.0)\n",
    "w = torch.tensor(1.0, requires_grad = True)\n",
    "\n",
    "# forward pass and compute loss\n",
    "y_hat = w * x\n",
    "loss = (y_hat - y)**2\n",
    "print(loss)\n",
    "\n",
    "# Backward pass\n",
    "loss.backward()\n",
    "print(w.grad)\n",
    "\n",
    "# update the weights \n",
    "# next forward and backward pass\n"
   ]
  },
  {
   "cell_type": "markdown",
   "id": "de0a6a9e-a619-4838-a5e6-a991748cc690",
   "metadata": {},
   "source": [
    "## Video Lecture 5\n",
    "### Manual Gradient Descent"
   ]
  },
  {
   "cell_type": "code",
   "execution_count": 81,
   "id": "35a01a1f-d8d8-459f-9e95-f311855eefa1",
   "metadata": {},
   "outputs": [
    {
     "name": "stdout",
     "output_type": "stream",
     "text": [
      "Prediction beore training: f(5) = 0.000\n",
      "epoch 1; w = 1.200; loss = 30.00000000\n",
      "epoch 2; w = 1.680; loss = 4.79999924\n",
      "epoch 3; w = 1.872; loss = 0.76800019\n",
      "epoch 4; w = 1.949; loss = 0.12288000\n",
      "epoch 5; w = 1.980; loss = 0.01966083\n",
      "epoch 6; w = 1.992; loss = 0.00314570\n",
      "epoch 7; w = 1.997; loss = 0.00050332\n",
      "epoch 8; w = 1.999; loss = 0.00008053\n",
      "epoch 9; w = 1.999; loss = 0.00001288\n",
      "epoch 10; w = 2.000; loss = 0.00000206\n",
      "Predictiopn After training: f(5) = 9.999\n"
     ]
    }
   ],
   "source": [
    "X = np.array([1, 2, 3, 4], dtype= np.float32)\n",
    "Y = np.array([2, 4, 6, 8], dtype= np.float32)\n",
    "w = 0.0\n",
    "\n",
    "# calcuate model prediction\n",
    "def forward(x):\n",
    "    return w*x\n",
    "\n",
    "# loss = MSE\n",
    "def loss(y, y_predicted):\n",
    "    return ((y_predicted - y)**2).mean()\n",
    "# gradient\n",
    "# MSE = 1/N * (w*x - y)**2\n",
    "# dJ/dw = 1/N * 2x * (w*x - y)\n",
    "def gradient(x,y,y_predicted):\n",
    "    return np.dot(2*x, y_predicted-y).mean()\n",
    "print(f'Prediction beore training: f(5) = {forward(5):.3f}')\n",
    "\n",
    "# Training\n",
    "learning_rate = 0.01\n",
    "n_iter = 10\n",
    "for epoch in range(n_iter):\n",
    "    # Forward pass\n",
    "    y_pred = forward(X)\n",
    "    # Loss\n",
    "    l = loss(Y, y_pred)\n",
    "    # gradients\n",
    "    dw = gradient(X,Y,y_pred)\n",
    "    # update weights\n",
    "    w -= learning_rate * dw\n",
    "    if epoch % 1 == 0:\n",
    "        print(f'epoch {epoch + 1}; w = {w:.3f}; loss = {l:.8f}')\n",
    "print(f'Predictiopn After training: f(5) = {forward(5):.3f}')\n",
    "    "
   ]
  },
  {
   "cell_type": "markdown",
   "id": "179c0a15-801d-40fe-8ee5-bf2986ac7ec3",
   "metadata": {},
   "source": [
    "### Autograd Gradient Descent"
   ]
  },
  {
   "cell_type": "code",
   "execution_count": 93,
   "id": "07994109-2729-4c9b-9f58-3097a7ba1e80",
   "metadata": {},
   "outputs": [
    {
     "name": "stdout",
     "output_type": "stream",
     "text": [
      "Prediction beore training: f(5) = 0.000\n",
      "epoch 1; w = 0.300; loss = 30.00000000\n",
      "epoch 6; w = 1.246; loss = 5.90623236\n",
      "epoch 11; w = 1.665; loss = 1.16278565\n",
      "epoch 16; w = 1.851; loss = 0.22892261\n",
      "epoch 21; w = 1.934; loss = 0.04506890\n",
      "epoch 26; w = 1.971; loss = 0.00887291\n",
      "epoch 31; w = 1.987; loss = 0.00174685\n",
      "epoch 36; w = 1.994; loss = 0.00034392\n",
      "epoch 41; w = 1.997; loss = 0.00006770\n",
      "epoch 46; w = 1.999; loss = 0.00001333\n",
      "epoch 51; w = 1.999; loss = 0.00000262\n",
      "epoch 56; w = 2.000; loss = 0.00000052\n",
      "Predictiopn After training: f(5) = 9.999\n"
     ]
    }
   ],
   "source": [
    "X = torch.tensor([1, 2, 3, 4], dtype= torch.float32)\n",
    "Y = torch.tensor([2, 4, 6, 8], dtype= torch.float32)\n",
    "w = torch.tensor(0.0, dtype = torch.float32, requires_grad= True)\n",
    "\n",
    "# calcuate model prediction\n",
    "def forward(x):\n",
    "    return w*x\n",
    "\n",
    "# loss = MSE\n",
    "def loss(y, y_predicted):\n",
    "    return ((y_predicted - y)**2).mean()\n",
    "    \n",
    "print(f'Prediction beore training: f(5) = {forward(5):.3f}')\n",
    "\n",
    "# Training\n",
    "learning_rate = 0.01\n",
    "n_iter = 60\n",
    "for epoch in range(n_iter):\n",
    "    # Forward pass\n",
    "    y_pred = forward(X)\n",
    "    # Loss\n",
    "    l = loss(Y, y_pred)\n",
    "    \n",
    "    # gradients\n",
    "    l.backward()\n",
    "    # update weights\n",
    "    with torch.no_grad():\n",
    "        w -= learning_rate * w.grad # this operation should not be the part of the gradient tracking(computationl graph)\n",
    "    # zero gradient\n",
    "    w.grad.zero_()\n",
    "    \n",
    "    if epoch % 5 == 0:\n",
    "        print(f'epoch {epoch + 1}; w = {w:.3f}; loss = {l:.8f}')\n",
    "print(f'Predictiopn After training: f(5) = {forward(5):.3f}')"
   ]
  },
  {
   "cell_type": "markdown",
   "id": "5351788c-693d-43c2-afb3-2f39c903b780",
   "metadata": {},
   "source": [
    "## Video Lecture 6\n",
    "## Optmizer, Loss and Model Creation"
   ]
  },
  {
   "cell_type": "code",
   "execution_count": 104,
   "id": "586d2d88-8666-4b74-aff8-7fd9c57123d8",
   "metadata": {},
   "outputs": [
    {
     "name": "stdout",
     "output_type": "stream",
     "text": [
      "4 1\n",
      "Prediction beore training: f(5) = -1.748\n",
      "epoch 1; w = 0.035; loss = 42.08594513\n",
      "epoch 6; w = 1.097; loss = 6.81468248\n",
      "epoch 11; w = 1.525; loss = 1.14000130\n",
      "epoch 16; w = 1.698; loss = 0.22593927\n",
      "epoch 21; w = 1.770; loss = 0.07765578\n",
      "epoch 26; w = 1.800; loss = 0.05258419\n",
      "epoch 31; w = 1.813; loss = 0.04736709\n",
      "epoch 36; w = 1.821; loss = 0.04537860\n",
      "epoch 41; w = 1.825; loss = 0.04394337\n",
      "epoch 46; w = 1.828; loss = 0.04263009\n",
      "epoch 51; w = 1.831; loss = 0.04136842\n",
      "epoch 56; w = 1.834; loss = 0.04014598\n",
      "epoch 60; w = 1.836; loss = 0.03919445\n",
      "Predictiopn After training: f(5) = 9.661\n"
     ]
    }
   ],
   "source": [
    "# Pipeline Steps\n",
    "# 1) Design model(input, output, forward pass)\n",
    "# 2) Construct loss and optimizer\n",
    "# 3) Training Loop:\n",
    "# - forward pass: compute prediction\n",
    "# - backward pass: gradients\n",
    "# - update weights\n",
    "\n",
    "X = torch.tensor([[1], [2], [3], [4]], dtype= torch.float32)\n",
    "Y = torch.tensor([[2], [4], [6], [8]], dtype= torch.float32)\n",
    "\n",
    "X_test = torch.tensor([5], dtype = torch.float32)\n",
    "\n",
    "n_samples, n_features = X.shape\n",
    "print(n_samples, n_features)\n",
    "\n",
    "# model = nn.Linear(n_features, n_features)\n",
    "\n",
    "# Forward Pass / Model\n",
    "class LinearRegression(nn.Module):\n",
    "\n",
    "    def __init__(self, input_dim, output_dim):\n",
    "        super(LinearRegression, self).__init__()\n",
    "        self.lin = nn.Linear(input_dim, output_dim)\n",
    "\n",
    "    def forward(self,x):\n",
    "        return self.lin(x)\n",
    "\n",
    "model = LinearRegression(n_features, n_features)\n",
    "\n",
    "print(f'Prediction beore training: f(5) = {model(X_test).item():.3f}')\n",
    "\n",
    "# Training\n",
    "learning_rate = 0.01\n",
    "n_iter = 60\n",
    "\n",
    "loss = nn.MSELoss()\n",
    "optimizer = torch.optim.SGD(model.parameters(), lr = learning_rate)\n",
    "\n",
    "for epoch in range(n_iter):\n",
    "    # Forward pass\n",
    "    y_pred = model(X)\n",
    "    # Loss\n",
    "    l = loss(Y, y_pred)\n",
    "    # gradients\n",
    "    l.backward()\n",
    "    \n",
    "    # update weights\n",
    "    optimizer.step()\n",
    "    # zero gradient\n",
    "    optimizer.zero_grad()\n",
    "    \n",
    "    if epoch % 5 == 0 or epoch == n_iter-1:\n",
    "        [w,b] = model.parameters()\n",
    "        print(f'epoch {epoch + 1}; w = {w[0][0].item():.3f}; loss = {l:.8f}')\n",
    "        \n",
    "print(f'Predictiopn After training: f(5) = {model(X_test).item():.3f}')"
   ]
  },
  {
   "cell_type": "markdown",
   "id": "4b6c9104-c5bc-49e0-a9de-29bb1c38ce12",
   "metadata": {},
   "source": [
    "## Video Lecture 7\n",
    "### Linear Regression"
   ]
  },
  {
   "cell_type": "code",
   "execution_count": 6,
   "id": "8b4a97e6-625e-4232-93d5-de61b4b52cec",
   "metadata": {},
   "outputs": [],
   "source": [
    "\"\"\"\n",
    "Design model(input size, ouptut size, forawrd pass)\n",
    "Construct loss and optimizer\n",
    "Training Loop\n",
    "- forward pass\n",
    "- backward pass\n",
    "- update weights\n",
    "\"\"\"\n",
    "from sklearn import datasets\n",
    "import matplotlib.pyplot as plt"
   ]
  },
  {
   "cell_type": "code",
   "execution_count": 9,
   "id": "4175aa53-5f38-4411-8ede-7dbc58d5e2fe",
   "metadata": {},
   "outputs": [],
   "source": [
    "# Prepare Data\n",
    "X_numpy, y_numpy = datasets.make_regression(n_samples = 100, n_features = 1, noise= 20, random_state = 1)\n",
    "# X_numpy and y_numpy are of type double\n",
    "X = torch.from_numpy(X_numpy.astype(np.float32))\n",
    "y = torch.from_numpy(y_numpy.astype(np.float32))\n",
    "\n",
    "y = y.view(y.shape[0], 1) # y is a 1-dim array # convert to column vector\n",
    "\n",
    "n_samples, n_features = X.shape"
   ]
  },
  {
   "cell_type": "code",
   "execution_count": 24,
   "id": "36205dc8-d69c-4112-811d-ac6cd1a89fcf",
   "metadata": {},
   "outputs": [
    {
     "data": {
      "text/plain": [
       "(100,)"
      ]
     },
     "execution_count": 24,
     "metadata": {},
     "output_type": "execute_result"
    }
   ],
   "source": [
    "y_numpy.shape\n",
    "# X_numpy.shape"
   ]
  },
  {
   "cell_type": "code",
   "execution_count": 10,
   "id": "8dbb2371-1dd4-4b4d-bf1c-b76b2c997ab6",
   "metadata": {},
   "outputs": [],
   "source": [
    "# Model\n",
    "input_size = n_features\n",
    "output_size = 1\n",
    "model = nn.Linear(input_size, output_size)"
   ]
  },
  {
   "cell_type": "code",
   "execution_count": 11,
   "id": "d0e76add-a50f-42d8-901e-9315a5370539",
   "metadata": {},
   "outputs": [],
   "source": [
    "# Loss and Optimizer\n",
    "learning_rate = 0.01\n",
    "criterion = nn.MSELoss()\n",
    "optimizer = torch.optim.SGD(model.parameters(), lr = learning_rate)"
   ]
  },
  {
   "cell_type": "code",
   "execution_count": 17,
   "id": "bf593d94-b956-44d4-8f8a-5fc12d6793b8",
   "metadata": {},
   "outputs": [
    {
     "name": "stdout",
     "output_type": "stream",
     "text": [
      "epoch: 10, loss: 332.8662\n",
      "epoch: 20, loss: 332.7863\n",
      "epoch: 30, loss: 332.7278\n",
      "epoch: 40, loss: 332.6849\n",
      "epoch: 50, loss: 332.6535\n",
      "epoch: 60, loss: 332.6305\n",
      "epoch: 70, loss: 332.6137\n",
      "epoch: 80, loss: 332.6014\n",
      "epoch: 90, loss: 332.5923\n",
      "epoch: 100, loss: 332.5857\n"
     ]
    }
   ],
   "source": [
    "num_epochs = 100\n",
    "for epoch in range(num_epochs):\n",
    "    # forward and loss\n",
    "    y_pred = model(X)\n",
    "    loss = criterion(y_pred, y)\n",
    "    # backward pass\n",
    "    loss.backward()\n",
    "    # update\n",
    "    optimizer.step()\n",
    "    optimizer.zero_grad()\n",
    "\n",
    "    if (epoch+1) % 10 == 0 or epoch == num_epochs-1:\n",
    "        print(f'epoch: {epoch+1}, loss: {loss.item():.4f}')\n"
   ]
  },
  {
   "cell_type": "code",
   "execution_count": 18,
   "id": "f0077a2c-f41a-4efa-b2e3-dadf9675d8a1",
   "metadata": {},
   "outputs": [
    {
     "data": {
      "image/png": "[encoded data removed]",
      "text/plain": [
       "<Figure size 640x480 with 1 Axes>"
      ]
     },
     "metadata": {},
     "output_type": "display_data"
    }
   ],
   "source": [
    "predicted = model(X).detach().numpy()\n",
    "plt.plot(X_numpy, y_numpy, 'ro')\n",
    "plt.plot(X_numpy, predicted, 'b')\n",
    "plt.show()"
   ]
  },
  {
   "cell_type": "markdown",
   "id": "ddfe572b-e8f4-4e48-bcf3-97800ed02b09",
   "metadata": {},
   "source": [
    "## Video Leacture 8\n",
    "### Logistic Regression"
   ]
  },
  {
   "cell_type": "code",
   "execution_count": 28,
   "id": "a66a853b-9f07-4b73-89c8-77c787c576c2",
   "metadata": {},
   "outputs": [],
   "source": [
    "\"\"\"\n",
    "Design model(input size, ouptut size, forawrd pass)\n",
    "Construct loss and optimizer\n",
    "Training Loop\n",
    "- forward pass\n",
    "- backward pass\n",
    "- update weights\n",
    "\"\"\"\n",
    "from sklearn.preprocessing import StandardScaler\n",
    "from sklearn.model_selection import train_test_split"
   ]
  },
  {
   "cell_type": "code",
   "execution_count": 31,
   "id": "2468f6b9-6f27-4084-8035-41e54d933cd3",
   "metadata": {},
   "outputs": [],
   "source": [
    "# Prepare data\n",
    "bc = datasets.load_breast_cancer()\n",
    "X,y = bc.data, bc.target\n",
    "\n",
    "n_samples, n_features = X.shape\n",
    "X_train, X_test, y_train, y_test = train_test_split(X,y, test_size = 0.2, random_state = 1234)\n",
    "\n",
    "# scale\n",
    "sc = StandardScaler()\n",
    "X_train = sc.fit_transform(X_train)\n",
    "X_test = sc.transform(X_test)\n",
    "\n",
    "X_train = torch.from_numpy(X_train.astype(np.float32))\n",
    "X_test = torch.from_numpy(X_test.astype(np.float32))\n",
    "y_train = torch.from_numpy(y_train.astype(np.float32))\n",
    "y_test = torch.from_numpy(y_test.astype(np.float32))\n",
    "\n",
    "y_train = y_train.view(y_train.shape[0], 1) # convert to column vector\n",
    "y_test = y_test.view(y_test.shape[0], 1)\n"
   ]
  },
  {
   "cell_type": "code",
   "execution_count": 32,
   "id": "86c9cd11-8712-4721-aa7a-75cebb442466",
   "metadata": {},
   "outputs": [],
   "source": [
    "# model\n",
    "# f = wx + b, sigmoid function in end\n",
    "class LogesticRegression(nn.Module):\n",
    "    def __init__(self, n_input_features):\n",
    "        super().__init__()\n",
    "        self.linear = nn.Linear(n_input_features, 1)\n",
    "        \n",
    "    def forward(self,x):\n",
    "        y_pred = torch.sigmoid(self.linear(x))\n",
    "        return y_pred\n",
    "\n",
    "model = LogesticRegression(n_features)"
   ]
  },
  {
   "cell_type": "code",
   "execution_count": 33,
   "id": "8d9fc405-ffca-49c0-9d2c-4316a67baa3f",
   "metadata": {},
   "outputs": [],
   "source": [
    "learning_rate = 0.01 \n",
    "criterion = nn.BCELoss() # Binary Cross Entropy Loss\n",
    "optimizer = torch.optim.SGD(model.parameters(), lr = learning_rate)"
   ]
  },
  {
   "cell_type": "code",
   "execution_count": 34,
   "id": "24a41041-fade-47a6-9fb3-abc7626f4818",
   "metadata": {},
   "outputs": [
    {
     "name": "stdout",
     "output_type": "stream",
     "text": [
      "epoch: 10, loss: 0.5501\n",
      "epoch: 20, loss: 0.4577\n",
      "epoch: 30, loss: 0.3978\n",
      "epoch: 40, loss: 0.3558\n",
      "epoch: 50, loss: 0.3245\n",
      "epoch: 60, loss: 0.3001\n",
      "epoch: 70, loss: 0.2806\n",
      "epoch: 80, loss: 0.2644\n",
      "epoch: 90, loss: 0.2509\n",
      "epoch: 100, loss: 0.2393\n"
     ]
    }
   ],
   "source": [
    "num_epochs = 100\n",
    "for epoch in range(num_epochs):\n",
    "    # forward pass and loss\n",
    "    y_pred = model(X_train)\n",
    "    loss = criterion(y_pred, y_train)\n",
    "\n",
    "    # backward pass\n",
    "    loss.backward()\n",
    "\n",
    "    #updates\n",
    "    optimizer.step()\n",
    "    optimizer.zero_grad()\n",
    "\n",
    "    if (epoch+1) % 10 == 0 or (epoch + 1) == num_epochs:\n",
    "        print(f'epoch: {epoch + 1}, loss: {loss.item():.4f}')"
   ]
  },
  {
   "cell_type": "code",
   "execution_count": 36,
   "id": "2a7771ff-92bc-4e64-a341-5ab6a218cbe1",
   "metadata": {},
   "outputs": [
    {
     "name": "stdout",
     "output_type": "stream",
     "text": [
      "accuracy = 0.9035\n"
     ]
    }
   ],
   "source": [
    "with torch.no_grad():\n",
    "    y_pred = model(X_test)\n",
    "    y_pred_cls = y_pred.round() # round the value at 0.5\n",
    "    acc = y_pred_cls.eq(y_test).sum() / float(y_test.shape[0])\n",
    "    print(f'accuracy = {acc:.4f}')"
   ]
  },
  {
   "cell_type": "markdown",
   "id": "dd6acb27-f8ca-4d07-a2f3-f8c1bc6c69ca",
   "metadata": {},
   "source": [
    "## Video Leacture 9\n",
    "### Dataset and DataLoader"
   ]
  },
  {
   "cell_type": "code",
   "execution_count": 38,
   "id": "519ca658-fe69-4cfe-b7ba-b8ea11c8b9c5",
   "metadata": {},
   "outputs": [],
   "source": [
    "from torch.utils.data import Dataset, DataLoader\n",
    "import math"
   ]
  },
  {
   "cell_type": "code",
   "execution_count": 50,
   "id": "fc86ea5a-cb6d-4625-924c-4bde86dad64c",
   "metadata": {},
   "outputs": [
    {
     "name": "stdout",
     "output_type": "stream",
     "text": [
      "tensor([[1.1030e+01, 1.5100e+00, 2.2000e+00, 2.1500e+01, 8.5000e+01, 2.4600e+00,\n",
      "         2.1700e+00, 5.2000e-01, 2.0100e+00, 1.9000e+00, 1.7100e+00, 2.8700e+00,\n",
      "         4.0700e+02],\n",
      "        [1.2450e+01, 3.0300e+00, 2.6400e+00, 2.7000e+01, 9.7000e+01, 1.9000e+00,\n",
      "         5.8000e-01, 6.3000e-01, 1.1400e+00, 7.5000e+00, 6.7000e-01, 1.7300e+00,\n",
      "         8.8000e+02],\n",
      "        [1.2420e+01, 1.6100e+00, 2.1900e+00, 2.2500e+01, 1.0800e+02, 2.0000e+00,\n",
      "         2.0900e+00, 3.4000e-01, 1.6100e+00, 2.0600e+00, 1.0600e+00, 2.9600e+00,\n",
      "         3.4500e+02],\n",
      "        [1.2770e+01, 3.4300e+00, 1.9800e+00, 1.6000e+01, 8.0000e+01, 1.6300e+00,\n",
      "         1.2500e+00, 4.3000e-01, 8.3000e-01, 3.4000e+00, 7.0000e-01, 2.1200e+00,\n",
      "         3.7200e+02]])\n",
      "\n",
      "tensor([[2.],\n",
      "        [3.],\n",
      "        [2.],\n",
      "        [2.]])\n"
     ]
    }
   ],
   "source": [
    "class WineDataset(Dataset):\n",
    "    def __init__(self):\n",
    "        # data Loading\n",
    "        data = np.loadtxt('./wine.csv', delimiter = \",\", dtype = np.float32, skiprows = 1)\n",
    "        self.x = torch.from_numpy(data[:,1:])\n",
    "        self.y = torch.from_numpy(data[:,[0]]) # n_samples, 1\n",
    "        self.n_samples = data.shape[0]\n",
    "        \n",
    "    def __getitem__(self, index):\n",
    "        # dataset[0]\n",
    "        return (self.x[index], self.y[index])\n",
    "        \n",
    "    def __len__(self):\n",
    "        #len(dataset)\n",
    "        return self.n_samples\n",
    "\n",
    "dataset = WineDataset()\n",
    "dataloader = DataLoader(dataset = dataset, batch_size = 4, shuffle = True)\n",
    "\n",
    "dataiter = iter(dataloader)\n",
    "data = next(dataiter)\n",
    "feature, label = data\n",
    "print(feature)\n",
    "print()\n",
    "print(label)"
   ]
  },
  {
   "cell_type": "code",
   "execution_count": 55,
   "id": "20408412-b9a3-4fbf-9806-f7881a60bb9f",
   "metadata": {},
   "outputs": [
    {
     "name": "stdout",
     "output_type": "stream",
     "text": [
      "178 45\n",
      "epoch: 1/2, step: 5/45, inputs: torch.Size([4, 13])\n",
      "epoch: 1/2, step: 10/45, inputs: torch.Size([4, 13])\n",
      "epoch: 1/2, step: 15/45, inputs: torch.Size([4, 13])\n",
      "epoch: 1/2, step: 20/45, inputs: torch.Size([4, 13])\n",
      "epoch: 1/2, step: 25/45, inputs: torch.Size([4, 13])\n",
      "epoch: 1/2, step: 30/45, inputs: torch.Size([4, 13])\n",
      "epoch: 1/2, step: 35/45, inputs: torch.Size([4, 13])\n",
      "epoch: 1/2, step: 40/45, inputs: torch.Size([4, 13])\n",
      "epoch: 1/2, step: 45/45, inputs: torch.Size([2, 13])\n",
      "epoch: 2/2, step: 5/45, inputs: torch.Size([4, 13])\n",
      "epoch: 2/2, step: 10/45, inputs: torch.Size([4, 13])\n",
      "epoch: 2/2, step: 15/45, inputs: torch.Size([4, 13])\n",
      "epoch: 2/2, step: 20/45, inputs: torch.Size([4, 13])\n",
      "epoch: 2/2, step: 25/45, inputs: torch.Size([4, 13])\n",
      "epoch: 2/2, step: 30/45, inputs: torch.Size([4, 13])\n",
      "epoch: 2/2, step: 35/45, inputs: torch.Size([4, 13])\n",
      "epoch: 2/2, step: 40/45, inputs: torch.Size([4, 13])\n",
      "epoch: 2/2, step: 45/45, inputs: torch.Size([2, 13])\n"
     ]
    }
   ],
   "source": [
    "# training loop dummy\n",
    "num_epochs = 2\n",
    "total_samples= len(dataset)\n",
    "n_iterations = math.ceil(total_samples / 4)\n",
    "print(total_samples, n_iterations)\n",
    "\n",
    "for epoch in range(num_epochs):\n",
    "    for i, (inputs, labels) in enumerate(dataloader):\n",
    "        # forward backward and update\n",
    "        if (i+1) % 5 == 0:\n",
    "            print(f'epoch: {epoch+1}/{num_epochs}, step: {i+1}/{n_iterations}, inputs: {inputs.shape}')"
   ]
  },
  {
   "cell_type": "markdown",
   "id": "dbbd8779-3c6a-43c8-a78d-f152b53033e2",
   "metadata": {},
   "source": [
    "## Video Lecture 10\n",
    "### Data Transforms"
   ]
  },
  {
   "cell_type": "code",
   "execution_count": 20,
   "id": "3d7d7e7f-ec05-4d1a-b7a1-894acb7d6007",
   "metadata": {},
   "outputs": [],
   "source": [
    "class WineDataset(Dataset):\n",
    "    def __init__(self, transform = None):\n",
    "        # data Loading\n",
    "        data = np.loadtxt('./wine.csv', delimiter = \",\", dtype = np.float32, skiprows = 1)\n",
    "        self.x = data[:,1:]\n",
    "        self.y = data[:,[0]]# n_samples, 1\n",
    "        self.n_samples = data.shape[0]\n",
    "\n",
    "        self.transform = transform\n",
    "        \n",
    "    def __getitem__(self, index):\n",
    "        # dataset[0]\n",
    "        sample = (self.x[index], self.y[index])\n",
    "        if self.transform:\n",
    "            sample = self.transform(sample)\n",
    "\n",
    "        return sample\n",
    "        \n",
    "        \n",
    "    def __len__(self):\n",
    "        #len(dataset)\n",
    "        return self.n_samples\n",
    "\n",
    "# Custom Transform Classes\n",
    "class ToTensor:\n",
    "    def __call__(self, sample):\n",
    "        inputs, targets = sample\n",
    "        return (torch.from_numpy(inputs), torch.from_numpy(targets))\n",
    "\n",
    "class MulTransform:\n",
    "    def __init__(self, factor):\n",
    "        self.factor = factor\n",
    "\n",
    "    def __call__(self, sample):\n",
    "        inputs, targets = sample\n",
    "        inputs *= self.factor\n",
    "        return (inputs, targets)\n",
    "\n",
    "dataset = WineDataset()\n",
    "firstdata = dataset[0]\n",
    "features, labels = firstdata\n",
    "print(type(features), type(labels))\n",
    "print(features)\n",
    "\n",
    "print()\n",
    "# Multiple Transforms used Together\n",
    "composed = torchvision.transforms.Compose([ToTensor(), MulTransform(3)])\n",
    "\n",
    "dataset = WineDataset(transform = composed)\n",
    "firstdata = dataset[0]\n",
    "features, labels = firstdata\n",
    "print(type(features), type(labels))\n",
    "print(features)"
   ]
  },
  {
   "cell_type": "markdown",
   "id": "eeb2fa00-7a23-4d70-a802-4eb7596f295c",
   "metadata": {},
   "source": [
    "## Video Lecture 11\n",
    "### Softmax and CrossEntropy"
   ]
  },
  {
   "cell_type": "code",
   "execution_count": 79,
   "id": "bd75d2fb-9bf8-423a-9b3d-941f2aef1bcc",
   "metadata": {},
   "outputs": [
    {
     "data": {
      "text/plain": [
       "tensor([0.6590, 0.2424, 0.0986])"
      ]
     },
     "execution_count": 79,
     "metadata": {},
     "output_type": "execute_result"
    }
   ],
   "source": [
    "x = torch.tensor([2.0, 1.0, 0.1])\n",
    "output = torch.softmax(x, dim = 0) # computes it along the first axis\n",
    "output"
   ]
  },
  {
   "cell_type": "code",
   "execution_count": 84,
   "id": "5977ed01-a78f-4707-83d1-32e297b1e3a1",
   "metadata": {},
   "outputs": [
    {
     "name": "stdout",
     "output_type": "stream",
     "text": [
      "0.4170299470424652\n",
      "1.840616226196289\n",
      "tensor([0])\n",
      "tensor([1])\n"
     ]
    }
   ],
   "source": [
    "loss = nn.CrossEntropyLoss() # SoftMax Loss\n",
    "\"\"\"\n",
    "we must not implelent the soft-max at last player as it is done by CE loss itself\n",
    "so no softmax in last layer of the model is required. and Y has class labels no need of one-hot encodeing the ground-truth\n",
    "Y_pred which are model predictions has raw scores(logits) not softmax.\n",
    "\n",
    "But in BCELoss there is no sigmoid inbuilt hence we need to \n",
    "add the sigmod in the model manually\n",
    "\"\"\"\n",
    "Y = torch.tensor([0]) # Class 0 is the ground truth\n",
    "# n_samples x nclasses = 1 x 3\n",
    "Y_pred_good = torch.tensor([[2.0, 1.0, 0.1]]) # raw values not softmax\n",
    "Y_pred_bad = torch.tensor([[0.5, 2.0, 0.3]]) # raw values not softmax\n",
    "l1 = loss(Y_pred_good, Y)\n",
    "l2 = loss(Y_pred_bad, Y)\n",
    "print(l1.item())\n",
    "print(l2.item())\n",
    "\n",
    "# actual predictions\n",
    "_, predictions1 = torch.max(Y_pred_good, 1)\n",
    "_, predictions2 = torch.max(Y_pred_bad, 1)\n",
    "print(predictions1) # predicted Class\n",
    "print(predictions2) # predicted Class"
   ]
  },
  {
   "cell_type": "code",
   "execution_count": 25,
   "id": "95d289fc-dde8-4a96-9fe8-2fa98776836a",
   "metadata": {},
   "outputs": [],
   "source": [
    "# Softmax Model Dummy\n",
    "class NeuralNet2(nn.Module):\n",
    "    def __init__(self, input_size, hidden_size, num_classes):\n",
    "        super().__init__()\n",
    "        self.lin1 = nn.Linear(input_size, hidden_size)\n",
    "        self.relu = nn.ReLU()\n",
    "        self.lin2 = nn.Linear(hidden_size, num_classes)\n",
    "        \n",
    "    def forward(self, x):\n",
    "        out = self.lin1(x)\n",
    "        out = self.relu(out)\n",
    "        out = self.lin2(out)\n",
    "        # no softmax needed\n",
    "        return out\n",
    "        \n",
    "model = NeuralNet2(input_size = 28*28, hidden_size = 5, num_classes = 3)\n",
    "criterions = nn.CrossEntropyLoss() # (applies softmax)\n",
    "\n",
    "# Binary Classification\n",
    "class NeuralNet1(nn.Module):\n",
    "    def __init__(self, input_size, hidden_size):\n",
    "        super().__init__()\n",
    "        self.lin1 = nn.Linear(input_size, hidden_size)\n",
    "        self.relu = nn.ReLU()\n",
    "        self.lin2 = nn.Linear(hidden_size, 1)\n",
    "        \n",
    "    def forward(self, x):\n",
    "        out = self.lin1(x)\n",
    "        out = self.relu(out)\n",
    "        out = self.lin2(out)\n",
    "        # sigmoid at the end\n",
    "        y_pred = torch.sigmoid(out)\n",
    "        return y_pred\n",
    "        \n",
    "model = NeuralNet1(input_size = 28*28, hidden_size = 5)\n",
    "criterions = nn.BCELoss() # (applies softmax)\n"
   ]
  },
  {
   "cell_type": "markdown",
   "id": "6698822f-cb6e-4bc3-a682-794fd8d7c6e8",
   "metadata": {},
   "source": [
    "## Video Lecture 12\n",
    "### Activation Functions"
   ]
  },
  {
   "cell_type": "code",
   "execution_count": 5,
   "id": "22b90b6b-96cc-468b-8f76-c524e2aaa0f4",
   "metadata": {},
   "outputs": [],
   "source": [
    "import torch.nn.functional as F\n",
    "class NeuralNet(nn.Module):\n",
    "    def __init__(self, input_size, hidden_size):\n",
    "        super().__init__()\n",
    "        self.lin1 = nn.Linear(input_size, hidden_size)\n",
    "        self.relu = nn.ReLU()\n",
    "        self.lin2 = nn.Linear(hidden_size, 1)\n",
    "        self.sigmoid = nn.Sigmoid()\n",
    "\n",
    "    def forward(self,x):\n",
    "        out = self.sigmoid(self.lin2(self.relu(self.lin1(x))))\n",
    "        return out\n"
   ]
  },
  {
   "cell_type": "markdown",
   "id": "dd3b86a5-f023-46a8-82f0-3d70ab9ce985",
   "metadata": {},
   "source": [
    "## Video Lecture 13\n",
    "### Digit Classification"
   ]
  },
  {
   "cell_type": "code",
   "execution_count": 96,
   "id": "6b818d5e-37dc-4723-ad7c-631b6305bc38",
   "metadata": {},
   "outputs": [],
   "source": [
    "\"\"\"\n",
    "MNIST\n",
    "DataLoader, Transformation\n",
    "Multiple NN, activation function\n",
    "Loss and Optimizer\n",
    "Update Weights\n",
    "Model opltimization\n",
    "GPU support\n",
    "\"\"\"\n",
    "import torchvision.transforms as transforms\n",
    "import matplotlib.pyplot as plt"
   ]
  },
  {
   "cell_type": "code",
   "execution_count": 97,
   "id": "1af5f05f-8e1a-40aa-a3a2-92a58649a326",
   "metadata": {},
   "outputs": [],
   "source": [
    "device = torch.device('cuda' if torch.cuda.is_available() else 'cpu')"
   ]
  },
  {
   "cell_type": "code",
   "execution_count": 98,
   "id": "d06c48f5-cac6-494e-9fe1-3d5ed72cf65d",
   "metadata": {},
   "outputs": [],
   "source": [
    "input_size = 784\n",
    "hidden_size = 100\n",
    "num_classes = 10\n",
    "num_epochs = 2\n",
    "batch_size = 100\n",
    "learning_rate = 0.001"
   ]
  },
  {
   "cell_type": "code",
   "execution_count": 99,
   "id": "97dbef0d-72ea-4195-93d5-bb242cde7c1c",
   "metadata": {},
   "outputs": [
    {
     "name": "stdout",
     "output_type": "stream",
     "text": [
      "torch.Size([100, 1, 28, 28]) torch.Size([100])\n"
     ]
    }
   ],
   "source": [
    "train_dataset = torchvision.datasets.MNIST(root = './data', train = True, transform = transforms.ToTensor(), download = True)\n",
    "test_dataset = torchvision.datasets.MNIST(root = './data', train = False, transform = transforms.ToTensor(), download = True)\n",
    "\n",
    "train_loader = torch.utils.data.DataLoader(dataset = train_dataset, batch_size = batch_size, shuffle = True)\n",
    "test_loader = torch.utils.data.DataLoader(dataset = test_dataset, batch_size = batch_size, shuffle = True)\n",
    "\n",
    "examples = iter(train_loader)\n",
    "samples, labels = next(examples)\n",
    "print(samples.shape, labels.shape)"
   ]
  },
  {
   "cell_type": "code",
   "execution_count": 100,
   "id": "4f506eed-eb39-4cf8-bbbd-d93965bf2010",
   "metadata": {},
   "outputs": [
    {
     "data": {
      "image/png": "[encoded data removed]",
      "text/plain": [
       "<Figure size 640x480 with 6 Axes>"
      ]
     },
     "metadata": {},
     "output_type": "display_data"
    }
   ],
   "source": [
    "for i in range(6):\n",
    "    plt.subplot(2, 3 ,i+1)\n",
    "    plt.imshow(samples[i][0], cmap = 'gray')"
   ]
  },
  {
   "cell_type": "code",
   "execution_count": 101,
   "id": "6f42318e-25d5-4fb8-9ad7-6d784ad1968c",
   "metadata": {},
   "outputs": [],
   "source": [
    "class NeuralNet(nn.Module):\n",
    "    def __init__(self, input_size, hidden_size, num_classes):\n",
    "        super().__init__()\n",
    "        self.l1 = nn.Linear(input_size, hidden_size)\n",
    "        self.relu = nn.ReLU()\n",
    "        self.l2 = nn.Linear(hidden_size, num_classes)\n",
    "\n",
    "    def forward(self, x):\n",
    "        out = self.l1(x)\n",
    "        out = self.relu(out)\n",
    "        out = self.l2(out)\n",
    "        return out\n",
    "\n",
    "model = NeuralNet(input_size, hidden_size, num_classes).to(device)"
   ]
  },
  {
   "cell_type": "code",
   "execution_count": 102,
   "id": "81d320e0-8b06-441c-b067-c22e9228439f",
   "metadata": {},
   "outputs": [],
   "source": [
    "criterion = nn.CrossEntropyLoss()\n",
    "optimizer = torch.optim.Adam(model.parameters(), lr = learning_rate)"
   ]
  },
  {
   "cell_type": "code",
   "execution_count": 103,
   "id": "f66f4a85-cb9b-424c-adb9-f5e64231661a",
   "metadata": {},
   "outputs": [
    {
     "name": "stdout",
     "output_type": "stream",
     "text": [
      "epoch: 1/ 2, step: 100/600, loss: 0.5714\n",
      "epoch: 1/ 2, step: 200/600, loss: 0.3589\n",
      "epoch: 1/ 2, step: 300/600, loss: 0.3044\n",
      "epoch: 1/ 2, step: 400/600, loss: 0.4062\n",
      "epoch: 1/ 2, step: 500/600, loss: 0.3188\n",
      "epoch: 1/ 2, step: 600/600, loss: 0.1677\n",
      "epoch: 2/ 2, step: 100/600, loss: 0.1649\n",
      "epoch: 2/ 2, step: 200/600, loss: 0.2371\n",
      "epoch: 2/ 2, step: 300/600, loss: 0.1017\n",
      "epoch: 2/ 2, step: 400/600, loss: 0.3038\n",
      "epoch: 2/ 2, step: 500/600, loss: 0.1752\n",
      "epoch: 2/ 2, step: 600/600, loss: 0.1794\n"
     ]
    }
   ],
   "source": [
    "n_total_steps = len(train_loader)\n",
    "for epoch in range(num_epochs):\n",
    "    for i, (images, labels) in enumerate(train_loader):\n",
    "        # 100, 1, 28, 28\n",
    "        # 100, 784\n",
    "        images = images.reshape(-1, 28 * 28)\n",
    "        images = images.to(device)\n",
    "        labels = labels.to(device)\n",
    "        # forward Pass\n",
    "        outputs = model(images)\n",
    "        loss = criterion(outputs, labels)\n",
    "        # backward Pass\n",
    "        optimizer.zero_grad()\n",
    "        loss.backward()\n",
    "        optimizer.step()\n",
    "\n",
    "        if (i+1) % 100 == 0:\n",
    "            print(f'epoch: {epoch + 1}/ {num_epochs}, step: {i+1}/{n_total_steps}, loss: {loss.item():.4f}')\n",
    "        "
   ]
  },
  {
   "cell_type": "code",
   "execution_count": 105,
   "id": "88035f73-7f49-46e3-99e1-70e2c4e7d868",
   "metadata": {},
   "outputs": [
    {
     "name": "stdout",
     "output_type": "stream",
     "text": [
      "accuracy = 95.4, correct: 9540, n_samples : 10000\n"
     ]
    }
   ],
   "source": [
    "# test \n",
    "with torch.no_grad():\n",
    "    n_correct = 0\n",
    "    n_samples = 0\n",
    "    for images, labels in test_loader:\n",
    "        images = images.reshape(-1, 28 * 28).to(device)\n",
    "        labels = labels.to(device)\n",
    "        outputs = model(images)\n",
    "        \n",
    "        # value, index\n",
    "        _, predictions = torch.max(outputs, 1)\n",
    "        \n",
    "        n_samples += labels.shape[0]\n",
    "        n_correct += (predictions == labels).sum().item()\n",
    "    \n",
    "    acc = 100.0 * n_correct / n_samples\n",
    "    print(f'accuracy = {acc}, correct: {n_correct}, n_samples : {n_samples}')"
   ]
  },
  {
   "cell_type": "markdown",
   "id": "6ed69d6b-e769-41ba-86f1-20ef0f2004d4",
   "metadata": {},
   "source": [
    "## Video lecture 14\n",
    "\n",
    "### Image Classification"
   ]
  },
  {
   "cell_type": "code",
   "execution_count": 9,
   "id": "95fdf8aa-c11b-4b2a-89d4-fe328884e977",
   "metadata": {},
   "outputs": [],
   "source": [
    "import torch.nn.functional as F\n",
    "import torchvision.transforms as transforms\n",
    "import matplotlib.pyplot as plt"
   ]
  },
  {
   "cell_type": "code",
   "execution_count": 5,
   "id": "255703cc-7a35-483a-877a-da85a5f67b8c",
   "metadata": {},
   "outputs": [],
   "source": [
    "device = torch.device('cuda' if torch.cuda.is_available() else 'cpu')"
   ]
  },
  {
   "cell_type": "code",
   "execution_count": 6,
   "id": "3ffb4032-86e0-4f7d-9175-0593c3a113ed",
   "metadata": {},
   "outputs": [],
   "source": [
    "num_epochs = 4\n",
    "batch_size = 4\n",
    "learning_rate = 0.001\n"
   ]
  },
  {
   "cell_type": "code",
   "execution_count": 7,
   "id": "4b2eec1d-45a2-4a31-9544-d3b551203bbc",
   "metadata": {},
   "outputs": [
    {
     "name": "stdout",
     "output_type": "stream",
     "text": [
      "Files already downloaded and verified\n",
      "Files already downloaded and verified\n"
     ]
    }
   ],
   "source": [
    "transform = transforms.Compose(\n",
    "    [transforms.ToTensor(),\n",
    "    transforms.Normalize((0.5,0.5,0.5), (0.5,0.5,0.5))]\n",
    ")\n",
    "\n",
    "train_dataset = torchvision.datasets.CIFAR10(root = './data', train = True, download = True, transform = transform)\n",
    "test_dataset = torchvision.datasets.CIFAR10(root = './data', train = False, download = True, transform = transform)\n",
    "\n",
    "train_loader = torch.utils.data.DataLoader(dataset = train_dataset, batch_size = batch_size, shuffle = True)\n",
    "test_loader = torch.utils.data.DataLoader(dataset = test_dataset, batch_size = batch_size, shuffle = False)\n",
    "\n",
    "classes = ('plane', 'car', 'bird', 'cat', 'deer', 'dog', 'frog', 'horse', 'ship', 'truck')\n"
   ]
  },
  {
   "cell_type": "code",
   "execution_count": 13,
   "id": "10698d1e-78d3-4cec-9f32-a293ed633f69",
   "metadata": {},
   "outputs": [
    {
     "data": {
      "image/png": "[encoded data removed]",
      "text/plain": [
       "<Figure size 640x480 with 1 Axes>"
      ]
     },
     "metadata": {},
     "output_type": "display_data"
    },
    {
     "name": "stdout",
     "output_type": "stream",
     "text": [
      "tensor([5, 4, 2, 8])\n"
     ]
    }
   ],
   "source": [
    "def imshow(img):\n",
    "    img = img / 2 + 0.5  # unnormalize\n",
    "    npimg = img.numpy()\n",
    "    plt.imshow(np.transpose(npimg, (1, 2, 0)))\n",
    "    plt.show()\n",
    "\n",
    "dataiter = iter(train_loader)\n",
    "images, labels = next(dataiter)\n",
    "\n",
    "# show images\n",
    "imshow(torchvision.utils.make_grid(images))\n",
    "print(labels)"
   ]
  },
  {
   "cell_type": "code",
   "execution_count": 127,
   "id": "469093c4-c94c-406c-a3ef-48ede4233198",
   "metadata": {},
   "outputs": [],
   "source": [
    "class ConvNet(nn.Module):\n",
    "    def __init__(self):\n",
    "        super().__init__()\n",
    "        self.conv1 = nn.Conv2d(3,6,5) #(input_channel, out_channels, kernal_size, stride, padding)\n",
    "        self.pool = nn.MaxPool2d(2,2)\n",
    "        self.conv2 = nn.Conv2d(6,16,5)\n",
    "        self.fc1 = nn.Linear(16*5*5, 120)\n",
    "        self.fc2 = nn.Linear(120, 84)\n",
    "        self.fc3 = nn.Linear(84, 10)\n",
    "        \n",
    "    def forward(self, x):\n",
    "        x = self.pool(F.relu(self.conv1(x)))\n",
    "        x = self.pool(F.relu(self.conv2(x)))\n",
    "        x = x.view(-1, 16*5*5)\n",
    "        x = F.relu(self.fc1(x))\n",
    "        x = F.relu(self.fc2(x))\n",
    "        x = self.fc3(x)\n",
    "        return x\n",
    "    \n",
    "model = ConvNet().to(device)"
   ]
  },
  {
   "cell_type": "code",
   "execution_count": 128,
   "id": "4cab2ef1-e090-4141-ba7e-5e73a86472cc",
   "metadata": {},
   "outputs": [
    {
     "name": "stdout",
     "output_type": "stream",
     "text": [
      "Epoch [1/4], Step [2000/12500], Loss: 2.2949\n",
      "Epoch [1/4], Step [4000/12500], Loss: 2.3203\n",
      "Epoch [1/4], Step [6000/12500], Loss: 2.3038\n",
      "Epoch [1/4], Step [8000/12500], Loss: 2.2468\n",
      "Epoch [1/4], Step [10000/12500], Loss: 2.2400\n",
      "Epoch [1/4], Step [12000/12500], Loss: 2.0043\n",
      "Epoch [2/4], Step [2000/12500], Loss: 2.0847\n",
      "Epoch [2/4], Step [4000/12500], Loss: 1.7207\n",
      "Epoch [2/4], Step [6000/12500], Loss: 1.5233\n",
      "Epoch [2/4], Step [8000/12500], Loss: 2.7012\n",
      "Epoch [2/4], Step [10000/12500], Loss: 1.3447\n",
      "Epoch [2/4], Step [12000/12500], Loss: 1.6396\n",
      "Epoch [3/4], Step [2000/12500], Loss: 1.6443\n",
      "Epoch [3/4], Step [4000/12500], Loss: 1.4480\n",
      "Epoch [3/4], Step [6000/12500], Loss: 1.1182\n",
      "Epoch [3/4], Step [8000/12500], Loss: 1.2715\n",
      "Epoch [3/4], Step [10000/12500], Loss: 0.9260\n",
      "Epoch [3/4], Step [12000/12500], Loss: 1.7155\n",
      "Epoch [4/4], Step [2000/12500], Loss: 2.0037\n",
      "Epoch [4/4], Step [4000/12500], Loss: 1.0543\n",
      "Epoch [4/4], Step [6000/12500], Loss: 1.5534\n",
      "Epoch [4/4], Step [8000/12500], Loss: 2.3386\n",
      "Epoch [4/4], Step [10000/12500], Loss: 1.3174\n",
      "Epoch [4/4], Step [12000/12500], Loss: 1.5548\n",
      "Finished Training\n"
     ]
    }
   ],
   "source": [
    "criterion = nn.CrossEntropyLoss()\n",
    "optimizer = torch.optim.SGD(model.parameters(), lr=learning_rate)\n",
    "\n",
    "n_total_steps = len(train_loader)\n",
    "for epoch in range(num_epochs):\n",
    "    for i, (images, labels) in enumerate(train_loader):\n",
    "        # origin shape: [4, 3, 32, 32] = 4, 3, 1024\n",
    "        # input_layer: 3 input channels, 6 output channels, 5 kernel size\n",
    "        images = images.to(device)\n",
    "        labels = labels.to(device)\n",
    "\n",
    "        # Forward pass\n",
    "        outputs = model(images)\n",
    "        loss = criterion(outputs, labels)\n",
    "\n",
    "        # Backward and optimize\n",
    "        optimizer.zero_grad()\n",
    "        loss.backward()\n",
    "        optimizer.step()\n",
    "\n",
    "        if (i+1) % 2000 == 0:\n",
    "            print (f'Epoch [{epoch+1}/{num_epochs}], Step [{i+1}/{n_total_steps}], Loss: {loss.item():.4f}')\n",
    "\n",
    "print('Finished Training')\n",
    "PATH = './cnn.pth'\n",
    "torch.save(model.state_dict(), PATH)"
   ]
  },
  {
   "cell_type": "code",
   "execution_count": 129,
   "id": "101783ca-f1a2-40e9-82a3-09e86f42efe6",
   "metadata": {},
   "outputs": [
    {
     "name": "stdout",
     "output_type": "stream",
     "text": [
      "Accuracy of the network: 46.18 %\n",
      "Accuracy of plane: 32.6 %\n",
      "Accuracy of car: 47.0 %\n",
      "Accuracy of bird: 31.2 %\n",
      "Accuracy of cat: 29.4 %\n",
      "Accuracy of deer: 21.6 %\n",
      "Accuracy of dog: 41.0 %\n",
      "Accuracy of frog: 68.5 %\n",
      "Accuracy of horse: 54.9 %\n",
      "Accuracy of ship: 71.6 %\n",
      "Accuracy of truck: 64.0 %\n"
     ]
    }
   ],
   "source": [
    "with torch.no_grad():\n",
    "    n_correct = 0\n",
    "    n_samples = 0\n",
    "    n_class_correct = [0 for i in range(10)]\n",
    "    n_class_samples = [0 for i in range(10)]\n",
    "    for images, labels in test_loader:\n",
    "        images = images.to(device)\n",
    "        labels = labels.to(device)\n",
    "        outputs = model(images)\n",
    "        # max returns (value ,index)\n",
    "        _, predicted = torch.max(outputs, 1)\n",
    "        n_samples += labels.size(0)\n",
    "        n_correct += (predicted == labels).sum().item()\n",
    "        \n",
    "        for i in range(batch_size):\n",
    "            label = labels[i]\n",
    "            pred = predicted[i]\n",
    "            if (label == pred):\n",
    "                n_class_correct[label] += 1\n",
    "            n_class_samples[label] += 1\n",
    "\n",
    "    acc = 100.0 * n_correct / n_samples\n",
    "    print(f'Accuracy of the network: {acc} %')\n",
    "\n",
    "    for i in range(10):\n",
    "        acc = 100.0 * n_class_correct[i] / n_class_samples[i]\n",
    "        print(f'Accuracy of {classes[i]}: {acc} %')"
   ]
  },
  {
   "cell_type": "markdown",
   "id": "aa2b579a-0730-4000-a582-93d665b71745",
   "metadata": {},
   "source": [
    "## Video Lecture 15\n",
    "\n",
    "### Transfer Learning"
   ]
  },
  {
   "cell_type": "code",
   "execution_count": 5,
   "id": "59dd98ce-b7ed-4d7f-b2d8-631756b9803c",
   "metadata": {},
   "outputs": [],
   "source": [
    "import torch.nn as nn\n",
    "import torch.optim as optim\n",
    "from torch.optim import lr_scheduler\n",
    "from torchvision import datasets, models, transforms\n",
    "import matplotlib.pyplot as plt\n",
    "import time \n",
    "import os\n",
    "import copy"
   ]
  },
  {
   "cell_type": "code",
   "execution_count": 6,
   "id": "8ad41862-885a-4d6f-a692-54a2a2c33f49",
   "metadata": {},
   "outputs": [],
   "source": [
    "device = torch.device(\"cuda\" if torch.cuda.is_available() else \"cpu\")\n",
    "mean = np.array([0.485, 0.456, 0.406])\n",
    "std = np.array([0.229, 0.224, 0.225])"
   ]
  },
  {
   "cell_type": "code",
   "execution_count": 10,
   "id": "9bdb1157-0390-40d9-a8b3-e16477a1aa82",
   "metadata": {},
   "outputs": [],
   "source": [
    "data_transforms = {\n",
    "    'train': transforms.Compose([\n",
    "        transforms.RandomResizedCrop(224),\n",
    "        transforms.RandomHorizontalFlip(),\n",
    "        transforms.ToTensor(),\n",
    "        transforms.Normalize(mean, std)\n",
    "    ]),\n",
    "    'val': transforms.Compose([\n",
    "        transforms.Resize(256),\n",
    "        transforms.CenterCrop(224),\n",
    "        transforms.ToTensor(),\n",
    "        transforms.Normalize(mean, std)\n",
    "    ]),\n",
    "}"
   ]
  },
  {
   "cell_type": "code",
   "execution_count": 11,
   "id": "622f7dea-ad9b-4af4-b7ce-e6f12edd9170",
   "metadata": {},
   "outputs": [
    {
     "name": "stdout",
     "output_type": "stream",
     "text": [
      "['ants', 'bees']\n"
     ]
    }
   ],
   "source": [
    "data_dir = 'data/hymenoptera_data'\n",
    "sets = ['train', 'val']\n",
    "image_datasets = {x: datasets.ImageFolder(os.path.join(data_dir, x), data_transforms[x]) for x in ['train', 'val']}\n",
    "data_loader = {x: torch.utils.data.DataLoader(image_datasets[x], batch_size = 4, shuffle = True) for x in ['train', 'val']}\n",
    "\n",
    "dataset_size = {x: len(image_datasets[x]) for x in ['train', 'val']}\n",
    "class_names = image_datasets['train'].classes\n",
    "print(class_names)"
   ]
  },
  {
   "cell_type": "code",
   "execution_count": 45,
   "id": "fdcfa224-4dc0-4e77-95d2-a7b00c63a3f4",
   "metadata": {},
   "outputs": [],
   "source": [
    "def train_model(model, criterion, optmizer, scheduler, num_epochs = 25):\n",
    "    since = time.time()\n",
    "    best_model_wts = copy.deepcopy(model.state_dict())\n",
    "    best_acc = 0.0\n",
    "    for epoch in range(num_epochs):\n",
    "        print(f'Epoch: {epoch}/{num_epochs - 1}')\n",
    "        print('-'*10)\n",
    "\n",
    "         # Each epoch has a training and validation phase\n",
    "        for phase in ['train', 'val']:\n",
    "            if phase == 'train':\n",
    "                model.train() # Set model to training mode\n",
    "            else:\n",
    "                model.eval() # Set model to evaluate mode\n",
    "\n",
    "            running_loss = 0.0\n",
    "            running_corrects = 0\n",
    "            # Iterate over data.\n",
    "            for inputs, labels in data_loader[phase]:\n",
    "                inputs = inputs.to(device)\n",
    "                labels = labels.to(device)\n",
    "                \n",
    "                # forward\n",
    "                # track history if only in train\n",
    "                with torch.set_grad_enabled(phase == 'train'):\n",
    "                    outputs = model(inputs)\n",
    "                    _, preds = torch.max(outputs, 1)\n",
    "                    loss = criterion(outputs, labels)\n",
    "                    \n",
    "                    # backward + optimize only if in training phase\n",
    "                    if phase == 'train':\n",
    "                        optimizer.zero_grad()\n",
    "                        loss.backward()\n",
    "                        optimizer.step()\n",
    "                # statistics\n",
    "                running_loss += loss.item() * inputs.size(0)\n",
    "                running_corrects += torch.sum(preds == labels.data)\n",
    "\n",
    "            if phase == 'train':\n",
    "                scheduler.step()\n",
    "\n",
    "            epoch_loss = running_loss / dataset_size[phase]\n",
    "            epoch_acc = running_corrects.double() / dataset_size[phase]\n",
    "\n",
    "            print(f'{phase} Loss : {epoch_loss:.4f} Acc: {epoch_acc:.4f}')\n",
    "            \n",
    "            # deep copy the model\n",
    "            if phase == 'val' and epoch_acc > best_acc:\n",
    "                best_acc = epoch_acc\n",
    "                best_model_wts = copy.deepcopy(model.state_dict())\n",
    "        print()\n",
    "\n",
    "    time_elapsed = time.time() - since\n",
    "    print(f'Training completed in {time_elapsed // 60 :.0f}m {time_elapsed % 60 :.0f}s')\n",
    "    print(f'Best val Acc: {best_acc:.4f}')\n",
    "    \n",
    "    # load best model weights\n",
    "    model.load_state_dict(best_model_wts)\n",
    "    return model"
   ]
  },
  {
   "cell_type": "code",
   "execution_count": 46,
   "id": "e617ef30-b5e5-4c66-ad5e-a93860d9ffe5",
   "metadata": {},
   "outputs": [
    {
     "name": "stdout",
     "output_type": "stream",
     "text": [
      "Epoch: 0/1\n",
      "----------\n",
      "train Loss : 0.6417 Acc: 0.6230\n",
      "val Loss : 0.4294 Acc: 0.8170\n",
      "\n",
      "Epoch: 1/1\n",
      "----------\n",
      "train Loss : 0.5312 Acc: 0.7377\n",
      "val Loss : 0.3327 Acc: 0.9020\n",
      "\n",
      "Training completed in 0m 6s\n",
      "Best val Acc: 0.9020\n"
     ]
    }
   ],
   "source": [
    "#### Finetuning the convnet ####\n",
    "# Load a pretrained model and reset final fully connected layer.\n",
    "\n",
    "model = models.resnet18(pretrained = True)\n",
    "num_ftrs = model.fc.in_features # number of input features for the last layer\n",
    "\n",
    "# Here the size of each output sample is set to 2.\n",
    "# Alternatively, it can be generalized to nn.Linear(num_ftrs, len(class_names)).\n",
    "\n",
    "model.fc = nn.Linear(num_ftrs, 2) #(input feature, output features)\n",
    "model.to(device)\n",
    "\n",
    "criterion = nn.CrossEntropyLoss()\n",
    "\n",
    "# Observe that all parameters are being optimized\n",
    "optimizer = optim.SGD(model.parameters(), lr = 0.001)\n",
    "\n",
    "# scheduler\n",
    "# update the lr\n",
    "\n",
    "# StepLR Decays the learning rate of each parameter group by gamma every step_size epochs\n",
    "# Decay LR by a factor of 0.1 every 7 epochs\n",
    "# Learning rate scheduling should be applied after optimizer’s update\n",
    "# e.g., you should write your code this way:\n",
    "# for epoch in range(100):\n",
    "#     train(...)\n",
    "#     validate(...)\n",
    "#     scheduler.step()\n",
    "\n",
    "\n",
    "step_lr_scheduler = lr_scheduler.StepLR(optimizer, step_size = 5, gamma = 0.1)\n",
    "\n",
    "model = train_model(model, criterion, optimizer, step_lr_scheduler, num_epochs = 2)"
   ]
  },
  {
   "cell_type": "code",
   "execution_count": 47,
   "id": "55e04bd1-f3e0-478c-9396-1f91dc2132f1",
   "metadata": {},
   "outputs": [
    {
     "name": "stdout",
     "output_type": "stream",
     "text": [
      "Epoch: 0/1\n",
      "----------\n",
      "train Loss : 0.6628 Acc: 0.6311\n",
      "val Loss : 0.5446 Acc: 0.7320\n",
      "\n",
      "Epoch: 1/1\n",
      "----------\n",
      "train Loss : 0.5353 Acc: 0.7664\n",
      "val Loss : 0.5535 Acc: 0.6863\n",
      "\n",
      "Training completed in 0m 6s\n",
      "Best val Acc: 0.7320\n"
     ]
    }
   ],
   "source": [
    "# option 2: Freeze all previous layers\n",
    "#### ConvNet as fixed feature extractor ####\n",
    "# Here, we need to freeze all the network except the final layer.\n",
    "# We need to set requires_grad == False to freeze the parameters so that the gradients are not computed in backward()\n",
    "\n",
    "model = models.resnet18(pretrained = True)\n",
    "for param in model.parameters():\n",
    "    param.requires_grad = False\n",
    "\n",
    "# Parameters of newly constructed modules have requires_grad=True by default\n",
    "num_ftrs = model.fc.in_features # number of input features for the last layer\n",
    "\n",
    "model.fc = nn.Linear(num_ftrs, 2) #(input feature, output features)\n",
    "model.to(device)\n",
    "\n",
    "criterion = nn.CrossEntropyLoss()\n",
    "\n",
    "# Observe that only parameters of final layer are being optimized as\n",
    "# opposed to before.\n",
    "optimizer = optim.SGD(model.parameters(), lr = 0.001)\n",
    "\n",
    "# scheduler\n",
    "# update the lr\n",
    "# Decay LR by a factor of 0.1 every 5 epochs\n",
    "step_lr_scheduler = lr_scheduler.StepLR(optimizer, step_size = 5, gamma = 0.1)\n",
    "\n",
    "model = train_model(model, criterion, optimizer, step_lr_scheduler, num_epochs = 2)"
   ]
  },
  {
   "cell_type": "markdown",
   "id": "f98fd43e-c8d2-4e92-a025-6f6e69871c0b",
   "metadata": {},
   "source": [
    "## Video Lecture 17\n",
    "\n",
    "### Saving and Loading Models"
   ]
  },
  {
   "cell_type": "code",
   "execution_count": 48,
   "id": "129cd130-4684-41f1-a41c-d5c6edf6d1c1",
   "metadata": {},
   "outputs": [],
   "source": [
    "import torch\n",
    "import torch.nn as nn\n",
    "\n",
    "''' 3 DIFFERENT METHODS TO REMEMBER:\n",
    " - torch.save(arg, PATH) # can be model, tensor, or dictionary\n",
    " - torch.load(PATH)\n",
    " - torch.load_state_dict(arg)\n",
    "'''\n",
    "\n",
    "''' 2 DIFFERENT WAYS OF SAVING\n",
    "# 1) lazy way: save whole model\n",
    "torch.save(model, PATH)\n",
    "\n",
    "# model class must be defined somewhere\n",
    "model = torch.load(PATH)\n",
    "model.eval()\n",
    "\n",
    "# 2) recommended way: save only the state_dict\n",
    "torch.save(model.state_dict(), PATH)\n",
    "\n",
    "# model must be created again with parameters\n",
    "model = Model(*args, **kwargs)\n",
    "model.load_state_dict(torch.load(PATH))\n",
    "model.eval()\n",
    "'''\n",
    "\n",
    "\n",
    "class Model(nn.Module):\n",
    "    def __init__(self, n_input_features):\n",
    "        super(Model, self).__init__()\n",
    "        self.linear = nn.Linear(n_input_features, 1)\n",
    "\n",
    "    def forward(self, x):\n",
    "        y_pred = torch.sigmoid(self.linear(x))\n",
    "        return y_pred\n",
    "\n",
    "model = Model(n_input_features=6)\n",
    "# train your model...\n",
    "\n",
    "####################save all ######################################\n",
    "for param in model.parameters():\n",
    "    print(param)\n",
    "\n",
    "# save and load entire model\n",
    "\n",
    "FILE = \"model.pth\"\n",
    "torch.save(model, FILE)\n",
    "\n",
    "loaded_model = torch.load(FILE)\n",
    "loaded_model.eval()\n",
    "\n",
    "for param in loaded_model.parameters():\n",
    "    print(param)\n",
    "\n",
    "\n",
    "############save only state dict #########################\n",
    "\n",
    "# save only state dict\n",
    "FILE = \"model.pth\"\n",
    "torch.save(model.state_dict(), FILE)\n",
    "\n",
    "print(model.state_dict())\n",
    "loaded_model = Model(n_input_features=6)\n",
    "loaded_model.load_state_dict(torch.load(FILE)) # it takes the loaded dictionary, not the path file itself\n",
    "loaded_model.eval()\n",
    "\n",
    "print(loaded_model.state_dict())\n",
    "\n",
    "\n",
    "###########load checkpoint#####################\n",
    "learning_rate = 0.01\n",
    "optimizer = torch.optim.SGD(model.parameters(), lr=learning_rate)\n",
    "\n",
    "checkpoint = {\n",
    "\"epoch\": 90,\n",
    "\"model_state\": model.state_dict(),\n",
    "\"optim_state\": optimizer.state_dict()\n",
    "}\n",
    "print(optimizer.state_dict())\n",
    "FILE = \"checkpoint.pth\"\n",
    "torch.save(checkpoint, FILE)\n",
    "\n",
    "model = Model(n_input_features=6)\n",
    "optimizer = torch.optim.SGD(model.parameters(), lr=0)\n",
    "\n",
    "checkpoint = torch.load(FILE)\n",
    "model.load_state_dict(checkpoint['model_state'])\n",
    "optimizer.load_state_dict(checkpoint['optim_state'])\n",
    "epoch = checkpoint['epoch']\n",
    "\n",
    "model.eval()\n",
    "# - or -\n",
    "# model.train()\n",
    "\n",
    "print(optimizer.state_dict())\n",
    "\n",
    "# Remember that you must call model.eval() to set dropout and batch normalization layers \n",
    "# to evaluation mode before running inference. Failing to do this will yield \n",
    "# inconsistent inference results. If you wish to resuming training, \n",
    "# call model.train() to ensure these layers are in training mode.\n",
    "\n",
    "\"\"\" SAVING ON GPU/CPU \n",
    "\n",
    "# 1) Save on GPU, Load on CPU\n",
    "device = torch.device(\"cuda\")\n",
    "model.to(device)\n",
    "torch.save(model.state_dict(), PATH)\n",
    "\n",
    "device = torch.device('cpu')\n",
    "model = Model(*args, **kwargs)\n",
    "model.load_state_dict(torch.load(PATH, map_location=device))\n",
    "\n",
    "# 2) Save on GPU, Load on GPU\n",
    "device = torch.device(\"cuda\")\n",
    "model.to(device)\n",
    "torch.save(model.state_dict(), PATH)\n",
    "\n",
    "model = Model(*args, **kwargs)\n",
    "model.load_state_dict(torch.load(PATH))\n",
    "model.to(device)\n",
    "\n",
    "# Note: Be sure to use the .to(torch.device('cuda')) function \n",
    "# on all model inputs, too!\n",
    "\n",
    "# 3) Save on CPU, Load on GPU\n",
    "torch.save(model.state_dict(), PATH)\n",
    "\n",
    "device = torch.device(\"cuda\")\n",
    "model = Model(*args, **kwargs)\n",
    "model.load_state_dict(torch.load(PATH, map_location=\"cuda:0\"))  # Choose whatever GPU device number you want\n",
    "model.to(device)\n",
    "\n",
    "# This loads the model to a given GPU device. \n",
    "# Next, be sure to call model.to(torch.device('cuda')) to convert the model’s parameter tensors to CUDA tensors\n",
    "\"\"\""
   ]
  }
 ],
 "metadata": {
  "kernelspec": {
   "display_name": "Python 3 (ipykernel)",
   "language": "python",
   "name": "python3"
  },
  "language_info": {
   "codemirror_mode": {
    "name": "ipython",
    "version": 3
   },
   "file_extension": ".py",
   "mimetype": "text/x-python",
   "name": "python",
   "nbconvert_exporter": "python",
   "pygments_lexer": "ipython3",
   "version": "3.11.8"
  }
 },
 "nbformat": 4,
 "nbformat_minor": 5
}
